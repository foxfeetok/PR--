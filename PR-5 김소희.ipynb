{
 "cells": [
  {
   "cell_type": "code",
   "execution_count": 2,
   "id": "2dd58f83",
   "metadata": {},
   "outputs": [
    {
     "name": "stdout",
     "output_type": "stream",
     "text": [
      "1. [2, 3]\n",
      "2. [0, 1, 1]\n"
     ]
    }
   ],
   "source": [
    "#b_test 함수 정의\n",
    "def b_test(eggs):\n",
    "    eggs.append(1)\n",
    "    eggs=[2,3]\n",
    "    print(\"1.\", eggs)\n",
    "    \n",
    "#함수 사용\n",
    "\n",
    "ham=[0,1]\n",
    "b_test(ham)\n",
    "print(\"2.\", ham)"
   ]
  },
  {
   "cell_type": "code",
   "execution_count": 7,
   "id": "2c17dcbf",
   "metadata": {},
   "outputs": [
    {
     "name": "stdout",
     "output_type": "stream",
     "text": [
      "1. 20\n",
      "4. 30\n",
      "2. 10\n"
     ]
    }
   ],
   "source": [
    "def test(t):\n",
    "    t = 20\n",
    "    print(\"1.\",t)\n",
    "    x=30\n",
    "    print(\"4.\",x)\n",
    "    \n",
    "x = 10\n",
    "test(x)\n",
    "print(\"2.\", x) #같은 x지만 다른 값이 된다\n",
    "print(\"3.\", t)"
   ]
  },
  {
   "cell_type": "markdown",
   "id": "701fdd6a",
   "metadata": {},
   "source": [
    "### 파이썬에서 인수\n",
    "***파이썬에서는 매개변수를 직접 적어주어, 순서에 상관없이, 호출이 가능하다***  \n",
    "\n",
    "**키워드 인수** *함수의 인터페이스에 지정된 변수명을 사용하여 함수의 인수를 지정하는 방법*  \n",
    "\n",
    "**디폴트 인수** *별도의 인수값이 입력되지 않을 때,   \n",
    "인터페이스 선언에서 지정한 초깃값을 사용하는 방법*  \n",
    "\n",
    "**가변 인수** *함수의 인터페이스에 지정된 변수 이외의   \n",
    "추가 변수를 함수에 입력할 수 있게 지원하는 방법*  \n",
    "\n",
    "**키워드 가변 인수** *매개변수의 이름을 따로 지정하지 않고 입력하는 방법*"
   ]
  },
  {
   "cell_type": "code",
   "execution_count": 9,
   "id": "f0880741",
   "metadata": {},
   "outputs": [
    {
     "name": "stdout",
     "output_type": "stream",
     "text": [
      "10\n"
     ]
    }
   ],
   "source": [
    "def c_test(x,y):\n",
    "    return x-y\n",
    "\n",
    "x=20\n",
    "y=30\n",
    "print(c_test(y=20,x=30)) #매개변수명을 직접 적어주면, 순서에 신경쓸 필요없이 매칭된다"
   ]
  },
  {
   "cell_type": "code",
   "execution_count": 10,
   "id": "41c1ed1d",
   "metadata": {},
   "outputs": [
    {
     "name": "stdout",
     "output_type": "stream",
     "text": [
      "-10\n",
      "10\n",
      "10\n",
      "-10\n"
     ]
    }
   ],
   "source": [
    "def c_test(x,y=0):\n",
    "    return x-y\n",
    "\n",
    "print(c_test(20,30))\n",
    "print(c_test(y=20,x=30))\n",
    "print(c_test(10))\n",
    "print(c_test(10,20))"
   ]
  },
  {
   "cell_type": "code",
   "execution_count": 13,
   "id": "ff056be2",
   "metadata": {},
   "outputs": [
    {
     "name": "stdout",
     "output_type": "stream",
     "text": [
      "1\n",
      "(2, 3, 4)\n",
      "2 3 4\n",
      "9\n",
      "1\n",
      "(2,)\n",
      "2\n",
      "2\n",
      "1\n",
      "(2, 3)\n",
      "2 3\n",
      "5\n",
      "1\n",
      "(2, 3, 4, 5, 6, 7, 8)\n",
      "2 3 4 5 6 7 8\n",
      "35\n"
     ]
    }
   ],
   "source": [
    "def d_test(a,*args): #한번 더 복습할 것\n",
    "    print(a)\n",
    "    print(args)\n",
    "    print(*args)\n",
    "    print(sum(args))\n",
    "    \n",
    "d_test(1,2,3,4)\n",
    "d_test(1,2)\n",
    "d_test(1,2,3)\n",
    "d_test(1,2,3,4,5,6,7,8)"
   ]
  },
  {
   "cell_type": "code",
   "execution_count": 15,
   "id": "7e7f9586",
   "metadata": {},
   "outputs": [
    {
     "name": "stdout",
     "output_type": "stream",
     "text": [
      "{'a': 1, 'b': 2, 'c': 3}\n",
      "a b c\n",
      "dict_values([1, 2, 3])\n",
      "{'x': 100, 'y': 200}\n",
      "x y\n",
      "dict_values([100, 200])\n",
      "{'k1': 10, 'k2': 30, 'k3': 40, 'k5': 50}\n",
      "k1 k2 k3 k5\n",
      "dict_values([10, 30, 40, 50])\n"
     ]
    }
   ],
   "source": [
    "def e_test(**kwargs):\n",
    "    print(kwargs)\n",
    "    print(*kwargs)\n",
    "    print(kwargs.values())\n",
    "    \n",
    "e_test(a=1, b=2, c=3)\n",
    "e_test(x=100,y=200)\n",
    "e_test(k1=10,k2=30,k3=40,k5=50)"
   ]
  },
  {
   "cell_type": "markdown",
   "id": "febf0834",
   "metadata": {},
   "source": [
    "### 파이썬 스타일 코드  \n",
    "*for loop를 사용하지 않고 코딩*  \n",
    "\n",
    "**리스트를 문자로 --> .join**  \n",
    "**문자를 리스트로 분리 --> .split**"
   ]
  },
  {
   "cell_type": "code",
   "execution_count": 17,
   "id": "132df76d",
   "metadata": {},
   "outputs": [
    {
     "name": "stdout",
     "output_type": "stream",
     "text": [
      "red,blue,green,yellow\n",
      "['red', 'blue', 'green', 'yellow']\n"
     ]
    }
   ],
   "source": [
    "co=['red','blue','green','yellow'] #리스트 안에 문자들을 쉼표로 구분하여 붙여라\n",
    "result=','.join(co)\n",
    "print(result)\n",
    "\n",
    "result2 = result.split(',') #문자를 리스트로 쉼표를 넣어 구분하여라\n",
    "print(result2)"
   ]
  },
  {
   "cell_type": "markdown",
   "id": "22be7cfb",
   "metadata": {},
   "source": [
    "### 컴프리헨션 용법"
   ]
  },
  {
   "cell_type": "code",
   "execution_count": 19,
   "id": "f3319e3a",
   "metadata": {},
   "outputs": [
    {
     "name": "stdout",
     "output_type": "stream",
     "text": [
      "[0, 4, 8, 12, 16]\n"
     ]
    }
   ],
   "source": [
    "#리스트 컴프리헨션 자체 포괄. for 문을 한 줄에 사용하는 장점\n",
    "#리스트 컴프리헨션 필터링 if i%\n",
    "\n",
    "res2=[i*2 for i in range(10)if i%2==0] \n",
    "print(res2)"
   ]
  },
  {
   "cell_type": "code",
   "execution_count": 20,
   "id": "415671e3",
   "metadata": {},
   "outputs": [
    {
     "name": "stdout",
     "output_type": "stream",
     "text": [
      "[0, 0, 2, 0, 4, 0, 6, 0, 8, 0]\n"
     ]
    }
   ],
   "source": [
    "#else문과 함께 사용하여 해당 조건을 만족하지 않을 때는 다른 값을 할당할 수 있다.\n",
    "\n",
    "res2=[i if i%2==0 else 0 for i in range(10)] \n",
    "print(res2)"
   ]
  },
  {
   "cell_type": "code",
   "execution_count": 27,
   "id": "239da4b6",
   "metadata": {},
   "outputs": [
    {
     "name": "stdout",
     "output_type": "stream",
     "text": [
      "['HW', 'Ho', 'Hr', 'Hl', 'Hd', 'eW', 'eo', 'er', 'el', 'ed', 'lW', 'lo', 'lr', 'ld', 'lW', 'lo', 'lr', 'ld', 'oW', 'or', 'ol', 'od']\n",
      "['ll', 'll', 'oo']\n"
     ]
    }
   ],
   "source": [
    "#중첩 반복문  \n",
    "#리스트 컴프리헨션에서도 기존처럼 리스트 2개를 섞어 사용 \n",
    "\n",
    "w1=\"Hello\"\n",
    "w2=\"World\"\n",
    "res3=[i+j for i in w1 for j in w2 if not(i==j)] #not = 서로 다를때만 찍어라\n",
    "print(res3) #모든 조합을 찍어준다.\n",
    "\n",
    "\n",
    "res3=[i+j for i in w1 for j in w2 if (i==j)] #not이 없을때, = 서로 같을때만 찍어라\n",
    "print(res3)"
   ]
  },
  {
   "cell_type": "code",
   "execution_count": 30,
   "id": "bfe4c4e8",
   "metadata": {},
   "outputs": [
    {
     "name": "stdout",
     "output_type": "stream",
     "text": [
      "['The', 'quick', 'brown', 'fox', 'jumps']\n",
      "[['The', 'THE', 'the', 3], ['quick', 'QUICK', 'quick', 5], ['brown', 'BROWN', 'brown', 5], ['fox', 'FOX', 'fox', 3], ['jumps', 'JUMPS', 'jumps', 5]]\n"
     ]
    }
   ],
   "source": [
    "#이차원 리스트 대괄호 두개 [안에가 먼저 반복]\n",
    "\n",
    "w3=\"The quick brown fox jumps\".split()\n",
    "print(w3)\n",
    "res4=[[w, w.upper(),w.lower(),len(w)]for w in w3]\n",
    "print(res4)"
   ]
  },
  {
   "cell_type": "code",
   "execution_count": 31,
   "id": "ca868063",
   "metadata": {},
   "outputs": [
    {
     "name": "stdout",
     "output_type": "stream",
     "text": [
      "0:00:00.166916\n"
     ]
    }
   ],
   "source": [
    "#시간이 얼마 걸렸는지 구하는 코드\n",
    "\n",
    "import time\n",
    "import datetime\n",
    "\n",
    "it_max=1000\n",
    "vector=list(range(it_max))\n",
    "scalar=2\n",
    "\n",
    "start=time.time()\n",
    "for _ in range(it_max): #변수가 없을 때, for _ in\n",
    "    [scalar*i for i in range(it_max)]\n",
    "\n",
    "end=time.time()\n",
    "sec=end-start\n",
    "res5=datetime.timedelta(seconds=sec)\n",
    "print(res5)"
   ]
  },
  {
   "cell_type": "markdown",
   "id": "3aa01ce4",
   "metadata": {},
   "source": [
    "### 이차원 리스트 차이\n",
    "**1. [i+j for i in case_1 for j in case_2]**  \n",
    "\n",
    "**2. [[i+j for i in cse_1]for j in case_2]**"
   ]
  },
  {
   "cell_type": "code",
   "execution_count": 32,
   "id": "d260f15e",
   "metadata": {},
   "outputs": [
    {
     "name": "stdout",
     "output_type": "stream",
     "text": [
      "['AD', 'AE', 'AA', 'BD', 'BE', 'BA', 'CD', 'CE', 'CA']\n",
      "[['AD', 'BD', 'CD'], ['AE', 'BE', 'CE'], ['AA', 'BA', 'CA']]\n"
     ]
    }
   ],
   "source": [
    "case1=[\"A\",\"B\",\"C\"]\n",
    "case2=[\"D\",\"E\",\"A\"]\n",
    "\n",
    "res6=[i+j for i in case1 for j in case2]\n",
    "print(res6)\n",
    "\n",
    "res7=[[i+j for i in case1]for j in case2]\n",
    "print(res7)"
   ]
  },
  {
   "cell_type": "code",
   "execution_count": null,
   "id": "41102a91",
   "metadata": {},
   "outputs": [],
   "source": []
  }
 ],
 "metadata": {
  "kernelspec": {
   "display_name": "Python 3 (ipykernel)",
   "language": "python",
   "name": "python3"
  },
  "language_info": {
   "codemirror_mode": {
    "name": "ipython",
    "version": 3
   },
   "file_extension": ".py",
   "mimetype": "text/x-python",
   "name": "python",
   "nbconvert_exporter": "python",
   "pygments_lexer": "ipython3",
   "version": "3.9.7"
  }
 },
 "nbformat": 4,
 "nbformat_minor": 5
}

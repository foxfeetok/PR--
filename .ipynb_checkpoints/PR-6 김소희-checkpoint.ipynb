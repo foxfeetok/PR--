{
 "cells": [
  {
   "cell_type": "markdown",
   "id": "483a828a",
   "metadata": {},
   "source": [
    "**04.19.2022 실습**   \n",
    "   ### zip( ) 함수   \n",
    "   **enumerate zip**  \n",
    "   \n",
    "   *unpacking"
   ]
  },
  {
   "cell_type": "code",
   "execution_count": 5,
   "id": "ae8bc5e1",
   "metadata": {},
   "outputs": [
    {
     "name": "stdout",
     "output_type": "stream",
     "text": [
      "{0: 'Ajou', 1: 'University', 2: 'and', 3: 'Business', 4: 'School'}\n"
     ]
    }
   ],
   "source": [
    "d1 = {i:j for i,j in enumerate(\"Ajou University and Business School\".split())}\n",
    "print(d1)"
   ]
  },
  {
   "cell_type": "code",
   "execution_count": 8,
   "id": "40dda081",
   "metadata": {},
   "outputs": [
    {
     "name": "stdout",
     "output_type": "stream",
     "text": [
      "[(1, 10, 100), (2, 20, 200), (3, 30, 300)]\n",
      "[111, 222, 333]\n"
     ]
    }
   ],
   "source": [
    "a1 = [1,2,3]\n",
    "b1 = [10,20,30]\n",
    "c1 = [100,200,300]\n",
    "\n",
    "print(list(zip(a1,b1,c1)))\n",
    "d2 = [sum(x) for x in zip(a1,b1,c1)] #투플을 3개를 더하는 것\n",
    "print(d2)"
   ]
  },
  {
   "cell_type": "code",
   "execution_count": 10,
   "id": "fa79582b",
   "metadata": {},
   "outputs": [
    {
     "name": "stdout",
     "output_type": "stream",
     "text": [
      "(1, 10, 100)\n",
      "(2, 20, 200)\n",
      "(3, 30, 300)\n"
     ]
    }
   ],
   "source": [
    "m1 = [[1,2,3],[10,20,30],[100,200,300]]\n",
    "for data in zip(*m1): #unpacking list\n",
    "    print(data)"
   ]
  },
  {
   "cell_type": "code",
   "execution_count": 13,
   "id": "6c31541e",
   "metadata": {},
   "outputs": [
    {
     "name": "stdout",
     "output_type": "stream",
     "text": [
      "[111, 222, 333]\n"
     ]
    }
   ],
   "source": [
    "#2차원 리스트를 zip을 통해 *언패킹 하여 합을 구하기\n",
    "\n",
    "m1 = [[1,2,3],[10,20,30],[100,200,300]] #2차원 데이테를 한번에 합으로 구하는 법\n",
    "m2 = [sum(x) for x in zip(*m1)] #(1+10+100),(2+20+200), (3+30+300) -> (111,222,333)\n",
    "print(m2)"
   ]
  },
  {
   "cell_type": "markdown",
   "id": "08cc2fdb",
   "metadata": {},
   "source": [
    "#### 람다 (lambda) 함수  \n",
    "**함수의 이름 없이, 함수처럼 사용할 수 있는 익명의 함수**  \n",
    "*이름을 지정하지 않아도 사용 가능*"
   ]
  },
  {
   "cell_type": "code",
   "execution_count": 9,
   "id": "e58dd1ec",
   "metadata": {},
   "outputs": [
    {
     "data": {
      "text/plain": [
       "[('a', 8),\n",
       " ('d', 8),\n",
       " ('s', 7),\n",
       " ('j', 6),\n",
       " ('k', 5),\n",
       " ('l', 5),\n",
       " ('f', 4),\n",
       " ('g', 4),\n",
       " ('h', 2),\n",
       " ('w', 1),\n",
       " ('q', 1),\n",
       " (';', 1)]"
      ]
     },
     "execution_count": 9,
     "metadata": {},
     "output_type": "execute_result"
    }
   ],
   "source": [
    "#sorting dictionary\n",
    "\n",
    "st = \"ajskdlfjakslasdwgafdhhqdjasdffkalsjdgklajsdlkg;jasdg\"\n",
    "dict_ch = {}\n",
    "for ch in st:\n",
    "    dict_ch[ch] = dict_ch.get(ch,0) +1\n",
    "dict_ch\n",
    "sorted_dict_ch = sorted(list(dict_ch.items()), key = lambda x:x[1], reverse=True)\n",
    "sorted_dict_ch"
   ]
  },
  {
   "cell_type": "code",
   "execution_count": null,
   "id": "30595cf9",
   "metadata": {},
   "outputs": [],
   "source": []
  }
 ],
 "metadata": {
  "kernelspec": {
   "display_name": "Python 3 (ipykernel)",
   "language": "python",
   "name": "python3"
  },
  "language_info": {
   "codemirror_mode": {
    "name": "ipython",
    "version": 3
   },
   "file_extension": ".py",
   "mimetype": "text/x-python",
   "name": "python",
   "nbconvert_exporter": "python",
   "pygments_lexer": "ipython3",
   "version": "3.9.7"
  }
 },
 "nbformat": 4,
 "nbformat_minor": 5
}

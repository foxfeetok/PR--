{
 "cells": [
  {
   "cell_type": "markdown",
   "id": "f75cd98d",
   "metadata": {},
   "source": [
    "## QUIZ"
   ]
  },
  {
   "cell_type": "code",
   "execution_count": 3,
   "id": "db41ff1c",
   "metadata": {},
   "outputs": [
    {
     "name": "stdout",
     "output_type": "stream",
     "text": [
      "pass\n",
      "pass\n",
      "pass\n",
      "fail\n",
      "pass\n"
     ]
    }
   ],
   "source": [
    "score = [65,80,75,55,90]  \n",
    "\n",
    "for i in score:\n",
    "    if i>60:\n",
    "        print(\"pass\")\n",
    "    else:\n",
    "        print(\"fail\")"
   ]
  },
  {
   "cell_type": "code",
   "execution_count": 4,
   "id": "659fe1b1",
   "metadata": {},
   "outputs": [
    {
     "name": "stdout",
     "output_type": "stream",
     "text": [
      "pass\n",
      "pass\n",
      "pass\n",
      "fail\n",
      "pass\n"
     ]
    }
   ],
   "source": [
    "score = [65,80,75,55,90]  \n",
    "\n",
    "for i in range(len(score)):\n",
    "    if score[i]>60:\n",
    "        print(\"pass\")\n",
    "    else:\n",
    "        print(\"fail\")"
   ]
  },
  {
   "cell_type": "code",
   "execution_count": 11,
   "id": "3d971ec7",
   "metadata": {},
   "outputs": [
    {
     "name": "stdout",
     "output_type": "stream",
     "text": [
      "[1, 0, 1, 0, 1, 1, 1, 0, 0, 0, 1, 0]\n"
     ]
    }
   ],
   "source": [
    "data1 =[\"Cat\", \"Dog\", \"cat\", \"dog\", \"cat\", \"cat\", \"Cat\", \"Dog\", \"dog\", \"Dog\", \"cat\", \"Dog\"]\n",
    "\n",
    "dic_1 = {\"cat\":1, \"dog\":0, \"Cat\":1, \"Dog\":0}\n",
    "\n",
    "data2 = [dic_1[key]for key in data1]\n",
    "\n",
    "print(data2)"
   ]
  },
  {
   "cell_type": "markdown",
   "id": "fac4e371",
   "metadata": {},
   "source": [
    "## 실습과제"
   ]
  },
  {
   "cell_type": "code",
   "execution_count": 1,
   "id": "965034ce",
   "metadata": {},
   "outputs": [
    {
     "name": "stdout",
     "output_type": "stream",
     "text": [
      "[1, 2, 3]\n",
      "1 2 3\n"
     ]
    }
   ],
   "source": [
    "#패킹과 언패킹\n",
    "#묶여져있는 변수와, 풀어져있는 변수의 갯수가 동일해야 한다.\n",
    "\n",
    "t=[1,2,3]\n",
    "a,b,c=t\n",
    "print(t)\n",
    "print(a,b,c)"
   ]
  },
  {
   "cell_type": "markdown",
   "id": "f4c2b944",
   "metadata": {},
   "source": [
    "### 함수  \n",
    "***Function*** *어떤 일을 수행하는 코드의 덩어리,또는 코드의 묶음*  \n",
    "*함수를 정의하는 부분과, 함수를 쓰는 불러서 쓰는 부분이 있다.*  \n",
    "\n",
    "***변수의 사용 범위 (scoping rule):*** *변수가 코드에서 사용되는 범위*  \n",
    "***지역 변수 (local variable):*** *함수 안에서만 사용*  \n",
    "***전역 변수 (global variable):*** *프로그램 전체에서 사용*  \n",
    "\n",
    "\n",
    "call by reference"
   ]
  },
  {
   "cell_type": "code",
   "execution_count": 2,
   "id": "fb0b41c2",
   "metadata": {},
   "outputs": [
    {
     "name": "stdout",
     "output_type": "stream",
     "text": [
      "600\n",
      "200\n"
     ]
    }
   ],
   "source": [
    "def cal_rec(x,y): #함수 만들기 #def | 함수 | (변수)\n",
    "    z=x*y\n",
    "    return z \n",
    "\n",
    "print(cal_rec(20,30)) #바로 값을 넣어서 함수를 부르기\n",
    "\n",
    "a=10 #함수를 부르기\n",
    "b=20\n",
    "k=cal_rec(a,b)\n",
    "print(k)"
   ]
  },
  {
   "cell_type": "code",
   "execution_count": 3,
   "id": "f5c2ec03",
   "metadata": {},
   "outputs": [
    {
     "name": "stdout",
     "output_type": "stream",
     "text": [
      "600\n"
     ]
    }
   ],
   "source": [
    "def cal_rec2(x,y): #함수 이름:cal_rec2 #매개변수:x,y\n",
    "    print(x*y)\n",
    "    \n",
    "cal_rec2(30,20) #return이 없는 방법"
   ]
  },
  {
   "cell_type": "code",
   "execution_count": 4,
   "id": "28ca70d3",
   "metadata": {},
   "outputs": [
    {
     "name": "stdout",
     "output_type": "stream",
     "text": [
      "inside 30\n",
      "300\n",
      "50\n"
     ]
    }
   ],
   "source": [
    "def cal_rec2(x,y):\n",
    "    print(\"inside\",x)\n",
    "    print(x*y)\n",
    "    \n",
    "cal_rec2(30,10)\n",
    "x=50\n",
    "print(x)"
   ]
  },
  {
   "cell_type": "code",
   "execution_count": 5,
   "id": "35956ac0",
   "metadata": {},
   "outputs": [
    {
     "name": "stdout",
     "output_type": "stream",
     "text": [
      "inside 30\n",
      "300\n",
      "50\n"
     ]
    }
   ],
   "source": [
    "def cal_rec2(x,y):\n",
    "    print(\"inside\",x)\n",
    "    print(x*y)\n",
    "    \n",
    "x=50\n",
    "cal_rec2(30,10) #cal_rec2함수에 속한 변수 x,y\n",
    "print(x) #별개의 x"
   ]
  },
  {
   "cell_type": "code",
   "execution_count": 11,
   "id": "af81783b",
   "metadata": {},
   "outputs": [
    {
     "name": "stdout",
     "output_type": "stream",
     "text": [
      "inside 30\n",
      "300\n",
      "50\n"
     ]
    }
   ],
   "source": [
    "def cal_rec2(x,y):\n",
    "    print(\"inside\",x)\n",
    "    print(x*y)\n",
    "\n",
    "x=50\n",
    "a=30\n",
    "b=10\n",
    "cal_rec2(a,b)\n",
    "print(x)"
   ]
  },
  {
   "cell_type": "code",
   "execution_count": 6,
   "id": "82a6f401",
   "metadata": {},
   "outputs": [
    {
     "name": "stdout",
     "output_type": "stream",
     "text": [
      "9\n",
      "3\n"
     ]
    }
   ],
   "source": [
    "#함수의 호출방식\n",
    "\n",
    "def f(x):\n",
    "    y = x\n",
    "    x = 5\n",
    "    return y*y\n",
    "\n",
    "x = 3\n",
    "print(f(x))\n",
    "print(x)"
   ]
  },
  {
   "cell_type": "code",
   "execution_count": 10,
   "id": "e432f3e9",
   "metadata": {},
   "outputs": [
    {
     "name": "stdout",
     "output_type": "stream",
     "text": [
      "[0, 2, 1]\n",
      "[2, 3]\n",
      "[0, 2, 1]\n"
     ]
    }
   ],
   "source": [
    "def spam(x1):\n",
    "    x1.append(1)\n",
    "    print(x1)\n",
    "    x1=[2,3]\n",
    "    print(x1)\n",
    "    \n",
    "y1=[0,2]\n",
    "spam(y1)\n",
    "print(y1)"
   ]
  },
  {
   "cell_type": "code",
   "execution_count": null,
   "id": "d688bcbf",
   "metadata": {},
   "outputs": [],
   "source": []
  }
 ],
 "metadata": {
  "kernelspec": {
   "display_name": "Python 3 (ipykernel)",
   "language": "python",
   "name": "python3"
  },
  "language_info": {
   "codemirror_mode": {
    "name": "ipython",
    "version": 3
   },
   "file_extension": ".py",
   "mimetype": "text/x-python",
   "name": "python",
   "nbconvert_exporter": "python",
   "pygments_lexer": "ipython3",
   "version": "3.9.7"
  }
 },
 "nbformat": 4,
 "nbformat_minor": 5
}
